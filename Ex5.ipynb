{
 "cells": [
  {
   "cell_type": "code",
   "execution_count": 1,
   "id": "62f3b4c9-9ad7-432a-a463-c8e344f17d40",
   "metadata": {},
   "outputs": [
    {
     "name": "stderr",
     "output_type": "stream",
     "text": [
      "C:\\Users\\hp\\anaconda3\\envs\\dlc_py310\\lib\\site-packages\\requests\\__init__.py:86: RequestsDependencyWarning: Unable to find acceptable character detection dependency (chardet or charset_normalizer).\n",
      "  warnings.warn(\n"
     ]
    },
    {
     "name": "stdout",
     "output_type": "stream",
     "text": [
      "Downloading data from https://storage.googleapis.com/tensorflow/tf-keras-datasets/imdb.npz\n",
      "17464789/17464789 [==============================] - 4s 0us/step\n",
      "Training data shape: (25000, 100)\n",
      "Test data shape: (25000, 100)\n",
      "Epoch 1/10\n",
      "313/313 [==============================] - 18s 44ms/step - loss: 0.5875 - accuracy: 0.6662 - val_loss: 0.4534 - val_accuracy: 0.7956\n",
      "Epoch 2/10\n",
      "313/313 [==============================] - 13s 43ms/step - loss: 0.3389 - accuracy: 0.8587 - val_loss: 0.3820 - val_accuracy: 0.8334\n",
      "Epoch 3/10\n",
      "313/313 [==============================] - 13s 42ms/step - loss: 0.2092 - accuracy: 0.9226 - val_loss: 0.4178 - val_accuracy: 0.8312\n",
      "Epoch 4/10\n",
      "313/313 [==============================] - 14s 44ms/step - loss: 0.1112 - accuracy: 0.9625 - val_loss: 0.4859 - val_accuracy: 0.8282\n",
      "Epoch 5/10\n",
      "313/313 [==============================] - 14s 43ms/step - loss: 0.0450 - accuracy: 0.9880 - val_loss: 0.6163 - val_accuracy: 0.8214\n",
      "Epoch 6/10\n",
      "313/313 [==============================] - 13s 43ms/step - loss: 0.0202 - accuracy: 0.9956 - val_loss: 0.6668 - val_accuracy: 0.8146\n",
      "Epoch 7/10\n",
      "313/313 [==============================] - 13s 41ms/step - loss: 0.0135 - accuracy: 0.9966 - val_loss: 0.8010 - val_accuracy: 0.8008\n",
      "Epoch 8/10\n",
      "313/313 [==============================] - 13s 43ms/step - loss: 0.0199 - accuracy: 0.9944 - val_loss: 0.7940 - val_accuracy: 0.8152\n",
      "Epoch 9/10\n",
      "313/313 [==============================] - 13s 43ms/step - loss: 0.0134 - accuracy: 0.9964 - val_loss: 0.8258 - val_accuracy: 0.8122\n",
      "Epoch 10/10\n",
      "313/313 [==============================] - 13s 41ms/step - loss: 0.0164 - accuracy: 0.9947 - val_loss: 0.8694 - val_accuracy: 0.7922\n",
      "782/782 - 7s - loss: 0.8680 - accuracy: 0.7887 - 7s/epoch - 9ms/step\n",
      "Test Accuracy: 0.7887\n",
      "Test Loss: 0.8680\n",
      "1/1 [==============================] - 1s 558ms/step\n",
      "Sample Predictions: [0 1 1 0 1]\n",
      "Actual Labels: [0 1 1 0 1]\n"
     ]
    }
   ],
   "source": [
    "import numpy as np\n",
    "import tensorflow as tf\n",
    "from tensorflow import keras\n",
    "from tensorflow.keras import layers\n",
    "from tensorflow.keras.datasets import imdb\n",
    "\n",
    "# Parameters\n",
    "vocab_size = 10000\n",
    "maxlen = 100  # Maximum review length (truncate/pad)\n",
    "\n",
    "# Load IMDB dataset\n",
    "(x_train, y_train), (x_test, y_test) = imdb.load_data(num_words=vocab_size)\n",
    "\n",
    "# Pad sequences to the same length\n",
    "x_train = keras.preprocessing.sequence.pad_sequences(x_train, maxlen=maxlen)\n",
    "x_test = keras.preprocessing.sequence.pad_sequences(x_test, maxlen=maxlen)\n",
    "\n",
    "print(f\"Training data shape: {x_train.shape}\")\n",
    "print(f\"Test data shape: {x_test.shape}\")\n",
    "\n",
    "# Build the model\n",
    "model = keras.Sequential()\n",
    "model.add(layers.Embedding(input_dim=vocab_size, output_dim=32, input_length=maxlen))\n",
    "model.add(layers.SimpleRNN(32, activation='tanh'))\n",
    "model.add(layers.Dense(1, activation='sigmoid'))\n",
    "\n",
    "# Compile the model\n",
    "model.compile(optimizer='adam',\n",
    "              loss='binary_crossentropy',\n",
    "              metrics=['accuracy'])\n",
    "\n",
    "# Train the model\n",
    "history = model.fit(\n",
    "    x_train, y_train,\n",
    "    epochs=10,\n",
    "    batch_size=64,\n",
    "    validation_split=0.2\n",
    ")\n",
    "\n",
    "# Evaluate on test set\n",
    "test_loss, test_acc = model.evaluate(x_test, y_test, verbose=2)\n",
    "print(f\"Test Accuracy: {test_acc:.4f}\")\n",
    "print(f\"Test Loss: {test_loss:.4f}\")\n",
    "\n",
    "# Make predictions on first 5 samples\n",
    "predictions = (model.predict(x_test[:5]) > 0.5).astype(\"int32\")\n",
    "print(\"Sample Predictions:\", predictions.reshape(-1))\n",
    "print(\"Actual Labels:\", y_test[:5])\n"
   ]
  },
  {
   "cell_type": "code",
   "execution_count": null,
   "id": "5bb92ecf-24b7-42ae-b0bf-6fc9ad36c7ff",
   "metadata": {},
   "outputs": [],
   "source": []
  }
 ],
 "metadata": {
  "kernelspec": {
   "display_name": "Python 3 (ipykernel)",
   "language": "python",
   "name": "python3"
  },
  "language_info": {
   "codemirror_mode": {
    "name": "ipython",
    "version": 3
   },
   "file_extension": ".py",
   "mimetype": "text/x-python",
   "name": "python",
   "nbconvert_exporter": "python",
   "pygments_lexer": "ipython3",
   "version": "3.10.18"
  }
 },
 "nbformat": 4,
 "nbformat_minor": 5
}
